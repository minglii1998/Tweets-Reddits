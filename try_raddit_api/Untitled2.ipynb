{
 "cells": [
  {
   "cell_type": "code",
   "execution_count": 5,
   "metadata": {},
   "outputs": [
    {
     "data": {
      "text/plain": [
       "<Response [200]>"
      ]
     },
     "execution_count": 5,
     "metadata": {},
     "output_type": "execute_result"
    }
   ],
   "source": [
    "CLIENT_ID = 'OIv-IBW8oFWUbaTrmT4TjA'\n",
    "SECRETE_KEY = 'PNR6CB7MWgMfuKGGLhh1qgdzA5zxdg'\n",
    "\n",
    "import requests\n",
    "\n",
    "auth = requests.auth.HTTPBasicAuth(CLIENT_ID,SECRETE_KEY)\n",
    "\n",
    "data = {\n",
    "    'grant_type':'password',\n",
    "    'username':'ming_666',\n",
    "    'password':'MingsPW4reddit..'\n",
    "}\n",
    "headers = {'User-Agent':'Ming/0.0.1'}\n",
    "res = requests.post('https://www.reddit.com/api/v1/access_token',\n",
    "                   auth=auth, data=data, headers=headers)\n",
    "TOKEN = res.json()['access_token']\n",
    "headers['Authorization'] = f'bearer {TOKEN}'\n",
    "requests.get('https://oauth.reddit.com/api/v1/me',headers=headers)"
   ]
  },
  {
   "cell_type": "code",
   "execution_count": 6,
   "metadata": {},
   "outputs": [],
   "source": [
    "# res = requests.get(\"https://oauth.reddit.com/r/BabyBumps/top\",\n",
    "#                    headers=headers,params={'limit':'1'})\n",
    "\n",
    "# print(res.json())  # let's see what we ge\n",
    "# res.json()\n",
    "\n",
    "res = requests.get(\"https://oauth.reddit.com/r/IVF/comments/pa5zod/my_wife_and_i_are_currently_undergoing_our_second.json\",\n",
    "                   headers=headers,params={})\n",
    "res"
   ]
  },
  {
   "cell_type": "code",
   "execution_count": 7,
   "metadata": {},
   "outputs": [
    {
     "data": {
      "text/plain": [
       "'The \"pinching\" just makes it easier and hurts a little less.'"
      ]
     },
     "execution_count": 7,
     "metadata": {},
     "output_type": "execute_result"
    }
   ],
   "source": [
    "res.json()[1]['data']['children'][0]['data']['body']"
   ]
  },
  {
   "cell_type": "code",
   "execution_count": 4,
   "metadata": {},
   "outputs": [
    {
     "data": {
      "text/plain": [
       "11"
      ]
     },
     "execution_count": 4,
     "metadata": {},
     "output_type": "execute_result"
    }
   ],
   "source": [
    "len(res.json()[1]['data']['children'])"
   ]
  },
  {
   "cell_type": "code",
   "execution_count": 26,
   "metadata": {},
   "outputs": [
    {
     "data": {
      "text/html": [
       "<div>\n",
       "<style scoped>\n",
       "    .dataframe tbody tr th:only-of-type {\n",
       "        vertical-align: middle;\n",
       "    }\n",
       "\n",
       "    .dataframe tbody tr th {\n",
       "        vertical-align: top;\n",
       "    }\n",
       "\n",
       "    .dataframe thead th {\n",
       "        text-align: right;\n",
       "    }\n",
       "</style>\n",
       "<table border=\"1\" class=\"dataframe\">\n",
       "  <thead>\n",
       "    <tr style=\"text-align: right;\">\n",
       "      <th></th>\n",
       "      <th>score</th>\n",
       "      <th>selftext</th>\n",
       "      <th>subreddit</th>\n",
       "      <th>title</th>\n",
       "      <th>ups</th>\n",
       "    </tr>\n",
       "  </thead>\n",
       "  <tbody>\n",
       "    <tr>\n",
       "      <td>0</td>\n",
       "      <td>517.0</td>\n",
       "      <td>US ladies, you’re fantastic, but I wondered if...</td>\n",
       "      <td>BabyBumps</td>\n",
       "      <td>Any non-US ladies here?</td>\n",
       "      <td>517.0</td>\n",
       "    </tr>\n",
       "  </tbody>\n",
       "</table>\n",
       "</div>"
      ],
      "text/plain": [
       "   score                                           selftext  subreddit  \\\n",
       "0  517.0  US ladies, you’re fantastic, but I wondered if...  BabyBumps   \n",
       "\n",
       "                     title    ups  \n",
       "0  Any non-US ladies here?  517.0  "
      ]
     },
     "execution_count": 26,
     "metadata": {},
     "output_type": "execute_result"
    }
   ],
   "source": [
    "import pandas as pd\n",
    "\n",
    "df = pd.DataFrame()  # initialize dataframe\n",
    "\n",
    "# loop through each post retrieved from GET request\n",
    "for post in res.json()[0]['data']['children']:\n",
    "    # append relevant data to dataframe\n",
    "    df = df.append({\n",
    "        'subreddit': post['data']['subreddit'],\n",
    "        'title': post['data']['title'],\n",
    "        'selftext': post['data']['selftext'],\n",
    "        'ups': post['data']['ups'],\n",
    "        'score': post['data']['score']\n",
    "    }, ignore_index=True)\n",
    "    \n",
    "df.head()"
   ]
  },
  {
   "cell_type": "code",
   "execution_count": 27,
   "metadata": {},
   "outputs": [],
   "source": [
    "# import json\n",
    "# b = json.dumps(res.json())\n",
    "# f2 = open('new_j_comment.json', 'w')\n",
    "# f2.write(b)\n",
    "# f2.close()"
   ]
  },
  {
   "cell_type": "code",
   "execution_count": 28,
   "metadata": {},
   "outputs": [],
   "source": [
    "# import json\n",
    "# b = json.dumps(res.json())\n",
    "# f2 = open('see.json', 'w')\n",
    "# f2.write(b)\n",
    "# f2.close()"
   ]
  },
  {
   "cell_type": "code",
   "execution_count": null,
   "metadata": {},
   "outputs": [],
   "source": []
  }
 ],
 "metadata": {
  "kernelspec": {
   "display_name": "Python 3",
   "language": "python",
   "name": "python3"
  },
  "language_info": {
   "codemirror_mode": {
    "name": "ipython",
    "version": 3
   },
   "file_extension": ".py",
   "mimetype": "text/x-python",
   "name": "python",
   "nbconvert_exporter": "python",
   "pygments_lexer": "ipython3",
   "version": "3.7.4"
  }
 },
 "nbformat": 4,
 "nbformat_minor": 2
}
