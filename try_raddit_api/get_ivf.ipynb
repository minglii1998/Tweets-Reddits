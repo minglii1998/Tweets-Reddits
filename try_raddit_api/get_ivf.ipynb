{
 "cells": [
  {
   "cell_type": "code",
   "execution_count": 25,
   "metadata": {},
   "outputs": [
    {
     "data": {
      "text/plain": [
       "<Response [200]>"
      ]
     },
     "execution_count": 25,
     "metadata": {},
     "output_type": "execute_result"
    }
   ],
   "source": [
    "CLIENT_ID = 'OIv-IBW8oFWUbaTrmT4TjA'\n",
    "SECRETE_KEY = 'PNR6CB7MWgMfuKGGLhh1qgdzA5zxdg'\n",
    "\n",
    "import requests\n",
    "import time\n",
    "import os.path as osp\n",
    "\n",
    "auth = requests.auth.HTTPBasicAuth(CLIENT_ID,SECRETE_KEY)\n",
    "\n",
    "data = {\n",
    "    'grant_type':'password',\n",
    "    'username':'ming_666',\n",
    "    'password':'MingsPW4reddit..'\n",
    "}\n",
    "headers = {'User-Agent':'Ming/0.0.1'}\n",
    "res = requests.post('https://www.reddit.com/api/v1/access_token',\n",
    "                   auth=auth, data=data, headers=headers)\n",
    "TOKEN = res.json()['access_token']\n",
    "headers['Authorization'] = f'bearer {TOKEN}'\n",
    "requests.get('https://oauth.reddit.com/api/v1/me',headers=headers)"
   ]
  },
  {
   "cell_type": "code",
   "execution_count": 26,
   "metadata": {},
   "outputs": [],
   "source": [
    "ONCE_NUM = 1\n",
    "WEB_LINK = \"https://oauth.reddit.com/r/IVF/hot\"\n",
    "COMMENT_PRE = \"https://oauth.reddit.com/\"\n",
    "\n",
    "once_str = '\\'' + str(ONCE_NUM) + '\\''\n",
    "res = requests.get(WEB_LINK,\n",
    "                   headers=headers,params={'limit':once_str})"
   ]
  },
  {
   "cell_type": "code",
   "execution_count": 27,
   "metadata": {},
   "outputs": [],
   "source": [
    "def get_main_post(data_in):\n",
    "    title = data_in['data']['title']\n",
    "    author = data_in['data']['author']\n",
    "    created_time_i = data_in['data']['created']\n",
    "    created_time_i = int(created_time_i) \n",
    "    created_time_i = time.localtime(created_time_i)\n",
    "    created = time.strftime(\"%m/%d/%Y %H:%M\", created_time_i) \n",
    "    ups = data_in['data']['ups']\n",
    "    num_comments = data_in['data']['num_comments']\n",
    "    name = data_in['data']['name']\n",
    "    url = data_in['data']['url']\n",
    "    permalink = data_in['data']['permalink']\n",
    "    comment_link = COMMENT_PRE + permalink.strip('/') + '.json'\n",
    "    return title, author, created, ups, num_comments, name, url, comment_link"
   ]
  },
  {
   "cell_type": "code",
   "execution_count": 28,
   "metadata": {},
   "outputs": [],
   "source": [
    "def get_comment(data_comment):\n",
    "    author = data_comment['data']['author']\n",
    "    body = data_comment['data']['body']\n",
    "    created_time_i = data_comment['data']['created']\n",
    "    created_time_i = int(created_time_i) \n",
    "    created_time_i = time.localtime(created_time_i)\n",
    "    created = time.strftime(\"%m/%d/%Y %H:%M\", created_time_i) \n",
    "    reply_children_list = data_comment['data']['replies']['data']['children'][0]['data']['children']\n",
    "    return author,body,created,reply_children_list\n",
    "    pass"
   ]
  },
  {
   "cell_type": "code",
   "execution_count": 29,
   "metadata": {},
   "outputs": [
    {
     "name": "stdout",
     "output_type": "stream",
     "text": [
      "45\n",
      "https://oauth.reddit.com/r/IVF/comments/q7o7k1/ivf_sub_suggestions.json\n",
      "2\n"
     ]
    },
    {
     "ename": "KeyError",
     "evalue": "'children'",
     "output_type": "error",
     "traceback": [
      "\u001b[1;31m---------------------------------------------------------------------------\u001b[0m",
      "\u001b[1;31mKeyError\u001b[0m                                  Traceback (most recent call last)",
      "\u001b[1;32m<ipython-input-29-623e822ebcb4>\u001b[0m in \u001b[0;36m<module>\u001b[1;34m\u001b[0m\n\u001b[0;32m     18\u001b[0m     \u001b[1;32mfor\u001b[0m \u001b[0mj\u001b[0m \u001b[1;32min\u001b[0m \u001b[0mrange\u001b[0m\u001b[1;33m(\u001b[0m\u001b[0mcomment_layer1_len\u001b[0m\u001b[1;33m)\u001b[0m\u001b[1;33m:\u001b[0m\u001b[1;33m\u001b[0m\u001b[1;33m\u001b[0m\u001b[0m\n\u001b[0;32m     19\u001b[0m         \u001b[0mdata_comment\u001b[0m \u001b[1;33m=\u001b[0m \u001b[0mres_comment_layer1\u001b[0m\u001b[1;33m.\u001b[0m\u001b[0mjson\u001b[0m\u001b[1;33m(\u001b[0m\u001b[1;33m)\u001b[0m\u001b[1;33m[\u001b[0m\u001b[1;36m1\u001b[0m\u001b[1;33m]\u001b[0m\u001b[1;33m[\u001b[0m\u001b[1;34m'data'\u001b[0m\u001b[1;33m]\u001b[0m\u001b[1;33m[\u001b[0m\u001b[1;34m'children'\u001b[0m\u001b[1;33m]\u001b[0m\u001b[1;33m[\u001b[0m\u001b[0mj\u001b[0m\u001b[1;33m]\u001b[0m\u001b[1;33m\u001b[0m\u001b[1;33m\u001b[0m\u001b[0m\n\u001b[1;32m---> 20\u001b[1;33m         \u001b[0mauthor\u001b[0m\u001b[1;33m,\u001b[0m\u001b[0mbody\u001b[0m\u001b[1;33m,\u001b[0m\u001b[0mcreated\u001b[0m\u001b[1;33m,\u001b[0m\u001b[0mreply_children_list\u001b[0m \u001b[1;33m=\u001b[0m \u001b[0mget_comment\u001b[0m\u001b[1;33m(\u001b[0m\u001b[0mdata_comment\u001b[0m\u001b[1;33m)\u001b[0m\u001b[1;33m\u001b[0m\u001b[1;33m\u001b[0m\u001b[0m\n\u001b[0m\u001b[0;32m     21\u001b[0m         \u001b[0mprint\u001b[0m\u001b[1;33m(\u001b[0m\u001b[0mauthor\u001b[0m\u001b[1;33m)\u001b[0m\u001b[1;33m\u001b[0m\u001b[1;33m\u001b[0m\u001b[0m\n\u001b[0;32m     22\u001b[0m         \u001b[0mprint\u001b[0m\u001b[1;33m(\u001b[0m\u001b[0mbody\u001b[0m\u001b[1;33m)\u001b[0m\u001b[1;33m\u001b[0m\u001b[1;33m\u001b[0m\u001b[0m\n",
      "\u001b[1;32m<ipython-input-28-c1ef18570462>\u001b[0m in \u001b[0;36mget_comment\u001b[1;34m(data_comment)\u001b[0m\n\u001b[0;32m      6\u001b[0m     \u001b[0mcreated_time_i\u001b[0m \u001b[1;33m=\u001b[0m \u001b[0mtime\u001b[0m\u001b[1;33m.\u001b[0m\u001b[0mlocaltime\u001b[0m\u001b[1;33m(\u001b[0m\u001b[0mcreated_time_i\u001b[0m\u001b[1;33m)\u001b[0m\u001b[1;33m\u001b[0m\u001b[1;33m\u001b[0m\u001b[0m\n\u001b[0;32m      7\u001b[0m     \u001b[0mcreated\u001b[0m \u001b[1;33m=\u001b[0m \u001b[0mtime\u001b[0m\u001b[1;33m.\u001b[0m\u001b[0mstrftime\u001b[0m\u001b[1;33m(\u001b[0m\u001b[1;34m\"%m/%d/%Y %H:%M\"\u001b[0m\u001b[1;33m,\u001b[0m \u001b[0mcreated_time_i\u001b[0m\u001b[1;33m)\u001b[0m\u001b[1;33m\u001b[0m\u001b[1;33m\u001b[0m\u001b[0m\n\u001b[1;32m----> 8\u001b[1;33m     \u001b[0mreply_children_list\u001b[0m \u001b[1;33m=\u001b[0m \u001b[0mdata_comment\u001b[0m\u001b[1;33m[\u001b[0m\u001b[1;34m'data'\u001b[0m\u001b[1;33m]\u001b[0m\u001b[1;33m[\u001b[0m\u001b[1;34m'replies'\u001b[0m\u001b[1;33m]\u001b[0m\u001b[1;33m[\u001b[0m\u001b[1;34m'data'\u001b[0m\u001b[1;33m]\u001b[0m\u001b[1;33m[\u001b[0m\u001b[1;34m'children'\u001b[0m\u001b[1;33m]\u001b[0m\u001b[1;33m[\u001b[0m\u001b[1;36m0\u001b[0m\u001b[1;33m]\u001b[0m\u001b[1;33m[\u001b[0m\u001b[1;34m'data'\u001b[0m\u001b[1;33m]\u001b[0m\u001b[1;33m[\u001b[0m\u001b[1;34m'children'\u001b[0m\u001b[1;33m]\u001b[0m\u001b[1;33m\u001b[0m\u001b[1;33m\u001b[0m\u001b[0m\n\u001b[0m\u001b[0;32m      9\u001b[0m     \u001b[1;32mreturn\u001b[0m \u001b[0mauthor\u001b[0m\u001b[1;33m,\u001b[0m\u001b[0mbody\u001b[0m\u001b[1;33m,\u001b[0m\u001b[0mcreated\u001b[0m\u001b[1;33m,\u001b[0m\u001b[0mreply_children_list\u001b[0m\u001b[1;33m\u001b[0m\u001b[1;33m\u001b[0m\u001b[0m\n\u001b[0;32m     10\u001b[0m     \u001b[1;32mpass\u001b[0m\u001b[1;33m\u001b[0m\u001b[1;33m\u001b[0m\u001b[0m\n",
      "\u001b[1;31mKeyError\u001b[0m: 'children'"
     ]
    }
   ],
   "source": [
    "for i in range(ONCE_NUM):\n",
    "    data_in = res.json()['data']['children'][i]\n",
    "    title, author, created, ups, num_comments, name, url, comment_link = get_main_post(data_in)\n",
    "    \n",
    "    # print(title)\n",
    "    # print(author)\n",
    "    # print(created)\n",
    "    # print(ups)\n",
    "    print(num_comments)\n",
    "    # print(name)\n",
    "    # print(url)\n",
    "    print(comment_link)\n",
    "    \n",
    "    res_comment_layer1 = requests.get(comment_link,headers=headers,params={})\n",
    "    comment_layer1_len = len(res_comment_layer1.json()[1]['data']['children'][0])\n",
    "    print(comment_layer1_len)\n",
    "    \n",
    "    for j in range(comment_layer1_len):\n",
    "        data_comment = res_comment_layer1.json()[1]['data']['children'][j]\n",
    "        author,body,created,reply_children_list = get_comment(data_comment)\n",
    "        print(author)\n",
    "        print(body)\n",
    "        print(created)\n",
    "        print('reply_children_list',reply_children_list)\n",
    "        pass\n",
    "    \n",
    "    "
   ]
  },
  {
   "cell_type": "code",
   "execution_count": 44,
   "metadata": {},
   "outputs": [
    {
     "name": "stdout",
     "output_type": "stream",
     "text": [
      "{'kind': 'Listing', 'data': {'after': None, 'dist': None, 'modhash': None, 'geo_filter': '', 'children': [{'kind': 't1', 'data': {'subreddit_id': 't5_2tkij', 'approved_at_utc': None, 'author_is_blocked': False, 'comment_type': None, 'awarders': [], 'mod_reason_by': None, 'banned_by': None, 'author_flair_type': 'text', 'total_awards_received': 0, 'subreddit': 'IVF', 'author_flair_template_id': '1997287c-a879-11eb-95d5-0e3e79ab70d3', 'likes': None, 'replies': '', 'user_reports': [], 'saved': False, 'id': 'hiry87j', 'banned_at_utc': None, 'mod_reason_title': None, 'gilded': 0, 'archived': False, 'collapsed_reason_code': None, 'no_follow': True, 'author': 'AdditionalAttorney', 'can_mod_post': False, 'send_replies': True, 'parent_id': 't1_hh1yynj', 'score': 2, 'author_fullname': 't2_28jrs70b', 'removal_reason': None, 'approved_by': None, 'mod_note': None, 'all_awardings': [], 'body': 'Agree w this.  List of related subs and links to other content... personally I don’t think we need a full faq or wiki..... r/infertility is pretty robust for that even if their rules make it hard to engage', 'edited': False, 'top_awarded_type': None, 'downs': 0, 'author_flair_css_class': None, 'name': 't1_hiry87j', 'is_submitter': False, 'collapsed': False, 'author_flair_richtext': [], 'author_patreon_flair': False, 'body_html': '&lt;div class=\"md\"&gt;&lt;p&gt;Agree w this.  List of related subs and links to other content... personally I don’t think we need a full faq or wiki..... &lt;a href=\"/r/infertility\"&gt;r/infertility&lt;/a&gt; is pretty robust for that even if their rules make it hard to engage&lt;/p&gt;\\n&lt;/div&gt;', 'gildings': {}, 'collapsed_reason': None, 'distinguished': None, 'associated_award': None, 'stickied': False, 'author_premium': False, 'can_gild': True, 'link_id': 't3_q7o7k1', 'unrepliable_reason': None, 'author_flair_text_color': 'dark', 'score_hidden': False, 'permalink': '/r/IVF/comments/q7o7k1/ivf_sub_suggestions/hiry87j/', 'subreddit_type': 'public', 'locked': False, 'report_reasons': None, 'created': 1635695751.0, 'author_flair_text': '39 | unexplained | 6 ER', 'treatment_tags': [], 'created_utc': 1635695751.0, 'subreddit_name_prefixed': 'r/IVF', 'controversiality': 0, 'depth': 2, 'author_flair_background_color': 'transparent', 'collapsed_because_crowd_control': None, 'mod_reports': [], 'num_reports': None, 'ups': 2}}, {'kind': 't1', 'data': {'subreddit_id': 't5_2tkij', 'approved_at_utc': None, 'author_is_blocked': False, 'comment_type': None, 'awarders': [], 'mod_reason_by': None, 'banned_by': None, 'author_flair_type': 'text', 'total_awards_received': 0, 'subreddit': 'IVF', 'author_flair_template_id': None, 'likes': None, 'replies': '', 'user_reports': [], 'saved': False, 'id': 'hh1yzo7', 'banned_at_utc': None, 'mod_reason_title': None, 'gilded': 0, 'archived': False, 'collapsed_reason_code': None, 'no_follow': True, 'author': 'sneakpeekbot', 'can_mod_post': False, 'send_replies': True, 'parent_id': 't1_hh1yynj', 'score': 0, 'author_fullname': 't2_140r4p', 'removal_reason': None, 'approved_by': None, 'mod_note': None, 'all_awardings': [], 'body': \"Here's a sneak peek of /r/InfertilityBabies using the [top posts](https://np.reddit.com/r/InfertilityBabies/top/?sort=top&amp;t=year) of the year!\\n\\n\\\\#1: [I did it. He’s here on earth.](https://np.reddit.com/r/InfertilityBabies/comments/pr16zs/i_did_it_hes_here_on_earth/)  \\n\\\\#2: [After almost 8 years of infertility, 4 failed transfers , and a baby on the way through gestational carrier (due 8/21)... Spontaneous pregnancy! WTF](https://np.reddit.com/r/InfertilityBabies/comments/nablpa/after_almost_8_years_of_infertility_4_failed/)  \\n\\\\#3: [Posting to say goodbye 💔](https://np.reddit.com/r/InfertilityBabies/comments/n52z2o/posting_to_say_goodbye/)\\n\\n----\\n^^I'm ^^a ^^bot, ^^beep ^^boop ^^| ^^Downvote ^^to ^^remove ^^| [^^Contact ^^me](https://www.reddit.com/message/compose/?to=sneakpeekbot) ^^| [^^Info](https://np.reddit.com/r/sneakpeekbot/) ^^| [^^Opt-out](https://np.reddit.com/r/sneakpeekbot/comments/o8wk1r/blacklist_ix/)\", 'edited': False, 'top_awarded_type': None, 'downs': 0, 'author_flair_css_class': None, 'name': 't1_hh1yzo7', 'is_submitter': False, 'collapsed': False, 'author_flair_richtext': [], 'author_patreon_flair': False, 'body_html': '&lt;div class=\"md\"&gt;&lt;p&gt;Here&amp;#39;s a sneak peek of &lt;a href=\"/r/InfertilityBabies\"&gt;/r/InfertilityBabies&lt;/a&gt; using the &lt;a href=\"https://np.reddit.com/r/InfertilityBabies/top/?sort=top&amp;amp;t=year\"&gt;top posts&lt;/a&gt; of the year!&lt;/p&gt;\\n\\n&lt;p&gt;#1: &lt;a href=\"https://np.reddit.com/r/InfertilityBabies/comments/pr16zs/i_did_it_hes_here_on_earth/\"&gt;I did it. He’s here on earth.&lt;/a&gt;&lt;br/&gt;\\n#2: &lt;a href=\"https://np.reddit.com/r/InfertilityBabies/comments/nablpa/after_almost_8_years_of_infertility_4_failed/\"&gt;After almost 8 years of infertility, 4 failed transfers , and a baby on the way through gestational carrier (due 8/21)... Spontaneous pregnancy! WTF&lt;/a&gt;&lt;br/&gt;\\n#3: &lt;a href=\"https://np.reddit.com/r/InfertilityBabies/comments/n52z2o/posting_to_say_goodbye/\"&gt;Posting to say goodbye 💔&lt;/a&gt;&lt;/p&gt;\\n\\n&lt;hr/&gt;\\n\\n&lt;p&gt;&lt;sup&gt;&lt;sup&gt;I&amp;#39;m&lt;/sup&gt;&lt;/sup&gt; &lt;sup&gt;&lt;sup&gt;a&lt;/sup&gt;&lt;/sup&gt; &lt;sup&gt;&lt;sup&gt;bot,&lt;/sup&gt;&lt;/sup&gt; &lt;sup&gt;&lt;sup&gt;beep&lt;/sup&gt;&lt;/sup&gt; &lt;sup&gt;&lt;sup&gt;boop&lt;/sup&gt;&lt;/sup&gt; &lt;sup&gt;&lt;sup&gt;|&lt;/sup&gt;&lt;/sup&gt; &lt;sup&gt;&lt;sup&gt;Downvote&lt;/sup&gt;&lt;/sup&gt; &lt;sup&gt;&lt;sup&gt;to&lt;/sup&gt;&lt;/sup&gt; &lt;sup&gt;&lt;sup&gt;remove&lt;/sup&gt;&lt;/sup&gt; &lt;sup&gt;&lt;sup&gt;|&lt;/sup&gt;&lt;/sup&gt; &lt;a href=\"https://www.reddit.com/message/compose/?to=sneakpeekbot\"&gt;&lt;sup&gt;&lt;sup&gt;Contact&lt;/sup&gt;&lt;/sup&gt; &lt;sup&gt;&lt;sup&gt;me&lt;/sup&gt;&lt;/sup&gt;&lt;/a&gt; &lt;sup&gt;&lt;sup&gt;|&lt;/sup&gt;&lt;/sup&gt; &lt;a href=\"https://np.reddit.com/r/sneakpeekbot/\"&gt;&lt;sup&gt;&lt;sup&gt;Info&lt;/sup&gt;&lt;/sup&gt;&lt;/a&gt; &lt;sup&gt;&lt;sup&gt;|&lt;/sup&gt;&lt;/sup&gt; &lt;a href=\"https://np.reddit.com/r/sneakpeekbot/comments/o8wk1r/blacklist_ix/\"&gt;&lt;sup&gt;&lt;sup&gt;Opt-out&lt;/sup&gt;&lt;/sup&gt;&lt;/a&gt;&lt;/p&gt;\\n&lt;/div&gt;', 'gildings': {}, 'collapsed_reason': None, 'distinguished': None, 'associated_award': None, 'stickied': False, 'author_premium': False, 'can_gild': True, 'link_id': 't3_q7o7k1', 'unrepliable_reason': None, 'author_flair_text_color': None, 'score_hidden': False, 'permalink': '/r/IVF/comments/q7o7k1/ivf_sub_suggestions/hh1yzo7/', 'subreddit_type': 'public', 'locked': False, 'report_reasons': None, 'created': 1634518899.0, 'author_flair_text': None, 'treatment_tags': [], 'created_utc': 1634518899.0, 'subreddit_name_prefixed': 'r/IVF', 'controversiality': 0, 'depth': 2, 'author_flair_background_color': None, 'collapsed_because_crowd_control': None, 'mod_reports': [], 'num_reports': None, 'ups': 0}}], 'before': None}}\n"
     ]
    }
   ],
   "source": [
    "reply_children_list = res_comment_layer1.json()[1]['data']['children'][0]['data']['replies']['data']['children'][0]['data']['replies']\n",
    "print(reply_children_list)"
   ]
  },
  {
   "cell_type": "code",
   "execution_count": 102,
   "metadata": {},
   "outputs": [
    {
     "data": {
      "text/plain": [
       "''"
      ]
     },
     "execution_count": 102,
     "metadata": {},
     "output_type": "execute_result"
    }
   ],
   "source": [
    "res_comment.json()[0]['data']['children'][0]['data']['selftext']"
   ]
  },
  {
   "cell_type": "code",
   "execution_count": null,
   "metadata": {},
   "outputs": [],
   "source": []
  }
 ],
 "metadata": {
  "interpreter": {
   "hash": "efc344fc83cb9e8899a5bbbcb0d0ed1a36fce3fd0050ddb860a3fa40320a38a8"
  },
  "kernelspec": {
   "display_name": "Python 3.7.4 64-bit ('base': conda)",
   "language": "python",
   "name": "python3"
  },
  "language_info": {
   "codemirror_mode": {
    "name": "ipython",
    "version": 3
   },
   "file_extension": ".py",
   "mimetype": "text/x-python",
   "name": "python",
   "nbconvert_exporter": "python",
   "pygments_lexer": "ipython3",
   "version": "3.7.4"
  },
  "orig_nbformat": 4
 },
 "nbformat": 4,
 "nbformat_minor": 2
}
