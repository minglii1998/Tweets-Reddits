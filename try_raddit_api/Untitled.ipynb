{
 "cells": [
  {
   "cell_type": "code",
   "execution_count": 41,
   "metadata": {},
   "outputs": [
    {
     "data": {
      "text/plain": [
       "<Response [200]>"
      ]
     },
     "execution_count": 41,
     "metadata": {},
     "output_type": "execute_result"
    }
   ],
   "source": [
    "CLIENT_ID = 'OIv-IBW8oFWUbaTrmT4TjA'\n",
    "SECRETE_KEY = 'PNR6CB7MWgMfuKGGLhh1qgdzA5zxdg'\n",
    "\n",
    "import requests\n",
    "\n",
    "auth = requests.auth.HTTPBasicAuth(CLIENT_ID,SECRETE_KEY)\n",
    "\n",
    "data = {\n",
    "    'grant_type':'password',\n",
    "    'username':'ming_666',\n",
    "    'password':'MingsPW4reddit..'\n",
    "}\n",
    "headers = {'User-Agent':'Ming/0.0.1'}\n",
    "res = requests.post('https://www.reddit.com/api/v1/access_token',\n",
    "                   auth=auth, data=data, headers=headers)\n",
    "TOKEN = res.json()['access_token']\n",
    "headers['Authorization'] = f'bearer {TOKEN}'\n",
    "requests.get('https://oauth.reddit.com/api/v1/me',headers=headers)"
   ]
  },
  {
   "cell_type": "code",
   "execution_count": 42,
   "metadata": {},
   "outputs": [],
   "source": [
    "res = requests.get(\"https://oauth.reddit.com/r/BabyBumps/top\",\n",
    "                   headers=headers,params={'limit':'5'})\n",
    "\n",
    "# print(res.json())  # let's see what we ge\n",
    "# res.json()\n",
    "\n",
    "# res = requests.get(\"https://oauth.reddit.com/r/BabyBumps/comments/rguxfr/any_nonus_ladies_here.json\",\n",
    "#                    headers=headers)\n",
    "# print(res.json())\n"
   ]
  },
  {
   "cell_type": "code",
   "execution_count": 43,
   "metadata": {},
   "outputs": [
    {
     "data": {
      "text/html": [
       "<div>\n",
       "<style scoped>\n",
       "    .dataframe tbody tr th:only-of-type {\n",
       "        vertical-align: middle;\n",
       "    }\n",
       "\n",
       "    .dataframe tbody tr th {\n",
       "        vertical-align: top;\n",
       "    }\n",
       "\n",
       "    .dataframe thead th {\n",
       "        text-align: right;\n",
       "    }\n",
       "</style>\n",
       "<table border=\"1\" class=\"dataframe\">\n",
       "  <thead>\n",
       "    <tr style=\"text-align: right;\">\n",
       "      <th></th>\n",
       "      <th>id</th>\n",
       "      <th>kind</th>\n",
       "      <th>score</th>\n",
       "      <th>selftext</th>\n",
       "      <th>subreddit</th>\n",
       "      <th>title</th>\n",
       "      <th>ups</th>\n",
       "    </tr>\n",
       "  </thead>\n",
       "  <tbody>\n",
       "    <tr>\n",
       "      <td>0</td>\n",
       "      <td>rhayp1</td>\n",
       "      <td>t3</td>\n",
       "      <td>660.0</td>\n",
       "      <td></td>\n",
       "      <td>BabyBumps</td>\n",
       "      <td>The second rodeo is NO JOKE 😵</td>\n",
       "      <td>660.0</td>\n",
       "    </tr>\n",
       "    <tr>\n",
       "      <td>1</td>\n",
       "      <td>rhmdeb</td>\n",
       "      <td>t3</td>\n",
       "      <td>598.0</td>\n",
       "      <td>A few days? weeks? ago I made an update to the...</td>\n",
       "      <td>BabyBumps</td>\n",
       "      <td>(Final?) Update: Always trust your gut, baby s...</td>\n",
       "      <td>598.0</td>\n",
       "    </tr>\n",
       "    <tr>\n",
       "      <td>2</td>\n",
       "      <td>rhdar8</td>\n",
       "      <td>t3</td>\n",
       "      <td>375.0</td>\n",
       "      <td>Hey all! Graduated 6 weeks ago and had a beaut...</td>\n",
       "      <td>BabyBumps</td>\n",
       "      <td>Validation</td>\n",
       "      <td>375.0</td>\n",
       "    </tr>\n",
       "    <tr>\n",
       "      <td>3</td>\n",
       "      <td>rhc1om</td>\n",
       "      <td>t3</td>\n",
       "      <td>341.0</td>\n",
       "      <td>So on top of having a horrendous birth experie...</td>\n",
       "      <td>BabyBumps</td>\n",
       "      <td>My partner didn’t put his legal name in the bi...</td>\n",
       "      <td>341.0</td>\n",
       "    </tr>\n",
       "    <tr>\n",
       "      <td>4</td>\n",
       "      <td>rhruhv</td>\n",
       "      <td>t3</td>\n",
       "      <td>271.0</td>\n",
       "      <td>I'm 9w+5 and I miscarried a week ago. \\n\\nI fe...</td>\n",
       "      <td>BabyBumps</td>\n",
       "      <td>Today's scan revealed a missed miscarriage</td>\n",
       "      <td>271.0</td>\n",
       "    </tr>\n",
       "  </tbody>\n",
       "</table>\n",
       "</div>"
      ],
      "text/plain": [
       "       id kind  score                                           selftext  \\\n",
       "0  rhayp1   t3  660.0                                                      \n",
       "1  rhmdeb   t3  598.0  A few days? weeks? ago I made an update to the...   \n",
       "2  rhdar8   t3  375.0  Hey all! Graduated 6 weeks ago and had a beaut...   \n",
       "3  rhc1om   t3  341.0  So on top of having a horrendous birth experie...   \n",
       "4  rhruhv   t3  271.0  I'm 9w+5 and I miscarried a week ago. \\n\\nI fe...   \n",
       "\n",
       "   subreddit                                              title    ups  \n",
       "0  BabyBumps                      The second rodeo is NO JOKE 😵  660.0  \n",
       "1  BabyBumps  (Final?) Update: Always trust your gut, baby s...  598.0  \n",
       "2  BabyBumps                                         Validation  375.0  \n",
       "3  BabyBumps  My partner didn’t put his legal name in the bi...  341.0  \n",
       "4  BabyBumps         Today's scan revealed a missed miscarriage  271.0  "
      ]
     },
     "execution_count": 43,
     "metadata": {},
     "output_type": "execute_result"
    }
   ],
   "source": [
    "import pandas as pd\n",
    "df = pd.DataFrame()  # initialize dataframe\n",
    "\n",
    "# loop through each post retrieved from GET request\n",
    "for post in res.json()['data']['children']:\n",
    "    # append relevant data to dataframe\n",
    "    df = df.append({\n",
    "        'subreddit': post['data']['subreddit'],\n",
    "        'title': post['data']['title'],\n",
    "        'selftext': post['data']['selftext'],\n",
    "        'ups': post['data']['ups'],\n",
    "        'score': post['data']['score'],\n",
    "        'id': post['data']['id'],\n",
    "        'kind': post['kind']\n",
    "    }, ignore_index=True)\n",
    "    \n",
    "df.head()"
   ]
  },
  {
   "cell_type": "code",
   "execution_count": 44,
   "metadata": {},
   "outputs": [],
   "source": [
    "res2 = requests.get(\"https://oauth.reddit.com/r/BabyBumps/top\",\n",
    "                   headers=headers,params={'limit':'2','after':'t3_rhruhv'})\n"
   ]
  },
  {
   "cell_type": "code",
   "execution_count": 45,
   "metadata": {},
   "outputs": [
    {
     "data": {
      "text/html": [
       "<div>\n",
       "<style scoped>\n",
       "    .dataframe tbody tr th:only-of-type {\n",
       "        vertical-align: middle;\n",
       "    }\n",
       "\n",
       "    .dataframe tbody tr th {\n",
       "        vertical-align: top;\n",
       "    }\n",
       "\n",
       "    .dataframe thead th {\n",
       "        text-align: right;\n",
       "    }\n",
       "</style>\n",
       "<table border=\"1\" class=\"dataframe\">\n",
       "  <thead>\n",
       "    <tr style=\"text-align: right;\">\n",
       "      <th></th>\n",
       "      <th>id</th>\n",
       "      <th>score</th>\n",
       "      <th>selftext</th>\n",
       "      <th>subreddit</th>\n",
       "      <th>title</th>\n",
       "      <th>ups</th>\n",
       "    </tr>\n",
       "  </thead>\n",
       "  <tbody>\n",
       "    <tr>\n",
       "      <td>0</td>\n",
       "      <td>rhiiyz</td>\n",
       "      <td>227.0</td>\n",
       "      <td>I’m just curious where others draw the line at...</td>\n",
       "      <td>BabyBumps</td>\n",
       "      <td>How much of the “ugly” symptoms do you tell yo...</td>\n",
       "      <td>227.0</td>\n",
       "    </tr>\n",
       "    <tr>\n",
       "      <td>1</td>\n",
       "      <td>rhbshx</td>\n",
       "      <td>153.0</td>\n",
       "      <td>I’m normally a mild space cadet, but today was...</td>\n",
       "      <td>BabyBumps</td>\n",
       "      <td>This baby has sucked up all of my basic brain ...</td>\n",
       "      <td>153.0</td>\n",
       "    </tr>\n",
       "  </tbody>\n",
       "</table>\n",
       "</div>"
      ],
      "text/plain": [
       "       id  score                                           selftext  \\\n",
       "0  rhiiyz  227.0  I’m just curious where others draw the line at...   \n",
       "1  rhbshx  153.0  I’m normally a mild space cadet, but today was...   \n",
       "\n",
       "   subreddit                                              title    ups  \n",
       "0  BabyBumps  How much of the “ugly” symptoms do you tell yo...  227.0  \n",
       "1  BabyBumps  This baby has sucked up all of my basic brain ...  153.0  "
      ]
     },
     "execution_count": 45,
     "metadata": {},
     "output_type": "execute_result"
    }
   ],
   "source": [
    "# loop through each post retrieved from GET request\n",
    "df = pd.DataFrame()\n",
    "for post in res2.json()['data']['children']:\n",
    "    # append relevant data to dataframe\n",
    "    df = df.append({\n",
    "        'subreddit': post['data']['subreddit'],\n",
    "        'title': post['data']['title'],\n",
    "        'selftext': post['data']['selftext'],\n",
    "        'ups': post['data']['ups'],\n",
    "        'score': post['data']['score'],\n",
    "        'id': post['data']['id']\n",
    "    }, ignore_index=True)\n",
    "    \n",
    "df.head()"
   ]
  },
  {
   "cell_type": "code",
   "execution_count": null,
   "metadata": {},
   "outputs": [],
   "source": []
  }
 ],
 "metadata": {
  "kernelspec": {
   "display_name": "Python 3",
   "language": "python",
   "name": "python3"
  },
  "language_info": {
   "codemirror_mode": {
    "name": "ipython",
    "version": 3
   },
   "file_extension": ".py",
   "mimetype": "text/x-python",
   "name": "python",
   "nbconvert_exporter": "python",
   "pygments_lexer": "ipython3",
   "version": "3.7.4"
  }
 },
 "nbformat": 4,
 "nbformat_minor": 2
}
